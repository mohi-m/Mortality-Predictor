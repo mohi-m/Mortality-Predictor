{
 "cells": [
  {
   "cell_type": "markdown",
   "metadata": {},
   "source": [
    "# Load Dataset"
   ]
  },
  {
   "cell_type": "code",
   "execution_count": null,
   "metadata": {},
   "outputs": [],
   "source": [
    "import pandas as pd\n",
    "\n",
    "# Load the dataset\n",
    "mortality_dataset = pd.read_csv('./datasets/Weekly_Provisional_Counts_of_Deaths_by_State_and_Select_Causes__2020-2023_20250216.csv')\n",
    "mortality_dataset_illinois = mortality_dataset[mortality_dataset['Jurisdiction of Occurrence'] == 'Illinois']\n",
    "climate_dataset = pd.read_csv('./datasets/Climate datasets/Data Cleaning/Climate_weekly_data.csv')\n",
    "\n",
    "\n",
    "# count number of rows in both and print\n",
    "print(\"Number of rows in mortality dataset: \", len(mortality_dataset_illinois))\n",
    "print(\"Number of rows in climate dataset: \", len(climate_dataset))"
   ]
  },
  {
   "cell_type": "markdown",
   "metadata": {},
   "source": [
    "# Data Pre-Processing"
   ]
  },
  {
   "cell_type": "code",
   "execution_count": null,
   "metadata": {},
   "outputs": [],
   "source": [
    "# Code for cleaning individiual datasets\n",
    "\n",
    "# Merge Columns"
   ]
  },
  {
   "cell_type": "markdown",
   "metadata": {},
   "source": [
    "# Linear Model "
   ]
  },
  {
   "cell_type": "code",
   "execution_count": null,
   "metadata": {},
   "outputs": [],
   "source": [
    "# Code for Linear Model"
   ]
  },
  {
   "cell_type": "markdown",
   "metadata": {},
   "source": [
    "# ARIMA Model to forecast Death Count"
   ]
  },
  {
   "cell_type": "code",
   "execution_count": null,
   "metadata": {},
   "outputs": [],
   "source": [
    "# Code for ARIMA model"
   ]
  }
 ],
 "metadata": {
  "kernelspec": {
   "display_name": "prompter",
   "language": "python",
   "name": "python3"
  },
  "language_info": {
   "codemirror_mode": {
    "name": "ipython",
    "version": 3
   },
   "file_extension": ".py",
   "mimetype": "text/x-python",
   "name": "python",
   "nbconvert_exporter": "python",
   "pygments_lexer": "ipython3",
   "version": "3.10.13"
  }
 },
 "nbformat": 4,
 "nbformat_minor": 2
}
